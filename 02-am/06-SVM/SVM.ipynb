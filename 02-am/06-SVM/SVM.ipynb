{
  "nbformat": 4,
  "nbformat_minor": 0,
  "metadata": {
    "colab": {
      "name": "SVM.ipynb",
      "version": "0.3.2",
      "provenance": []
    },
    "kernelspec": {
      "name": "python3",
      "display_name": "Python 3"
    }
  },
  "cells": [
    {
      "cell_type": "code",
      "metadata": {
        "id": "7NoqKvYvwLTy",
        "colab_type": "code",
        "colab": {
          "base_uri": "https://localhost:8080/",
          "height": 136
        },
        "outputId": "a90e93ad-2d52-4c4f-f82e-3910bff9fe34"
      },
      "source": [
        "# Este exemplo carrega a base Wine da UCI, treina um classificador SVM\n",
        "# usando holdout e outro usando validação cruzada com 10 pastas. \n",
        "\n",
        "# Importa bibliotecas necessárias \n",
        "import numpy as np\n",
        "import urllib\n",
        "from sklearn.svm import SVC\n",
        "from sklearn import  model_selection\n",
        "from sklearn.metrics import confusion_matrix\n",
        "from sklearn.model_selection import train_test_split\n",
        "from sklearn.model_selection import GridSearchCV\n",
        "\n",
        "#from sklearn.model_selection import StratifiedShuffleSplit\n",
        "# Carrega uma base de dados do UCI\n",
        "# Exemplo carrega a base Wine\n",
        "url = \"http://archive.ics.uci.edu/ml/machine-learning-databases/wine/wine.data\"\n",
        "raw_data = urllib.request.urlopen(url)\n",
        "\n",
        "# Carrega arquivo como uma matriz\n",
        "dataset = np.loadtxt(raw_data, delimiter=\",\")\n",
        "\n",
        "# Imprime quantide de instâncias e atributos da base\n",
        "print(dataset.shape)\n",
        "\n",
        "# Coloca em X os 13 atributos de entrada e em y as classes\n",
        "# Observe que na base Wine a classe é primeiro atributo \n",
        "X = dataset[:,1:13]\n",
        "y = dataset[:,0]\n",
        "\n",
        "# EXEMPLO USANDO HOLDOUT\n",
        "# Holdout -> dividindo a base em treinamento (70%) e teste (30%), estratificada\n",
        "X_train, X_test, y_train, y_test = train_test_split(X,y,test_size=.3, random_state=42, stratify=y)\n",
        "\n",
        "# Treina o classificador\n",
        "\n",
        "#Definição dos parâmetros a serem avaliados no ajuste fino do SVM\n",
        "parameters = [\n",
        "  {'C': [0.1, 0.5, 1, 10, 100, 500, 1000], 'kernel': ['linear']},\n",
        "  {'C': [0.1, 0.5, 1, 10, 100, 500, 1000], 'gamma': [0.1, 0.001, 0.0001, 0.00001], 'kernel': ['rbf']},\n",
        " ]\n",
        "\n",
        "clfa = SVC()\n",
        "clfa = GridSearchCV(clfa, parameters, scoring = 'accuracy', cv=10, iid=False)\n",
        "clfa = clfa.fit(X_train, y_train)\n",
        "print(clfa.best_params_)\n",
        "\n",
        "# testa usando a base de testes\n",
        "predicted=clfa.predict(X_test)\n",
        "\n",
        "# calcula a acurácia na base de teste\n",
        "score=clfa.score(X_test, y_test)\n",
        "\n",
        "# calcula a matriz de confusão\n",
        "matrix = confusion_matrix(y_test, predicted)\n",
        "\n",
        "# apresenta os resultados\n",
        "print(\"Accuracy = %.2f \" % score)\n",
        "print(\"Confusion Matrix:\")\n",
        "print(matrix)\n",
        "\n",
        "# EXEMPLO USANDO VALIDAÇÃO CRUZADA\n",
        "\n",
        "\n",
        "clfb = SVC()\n",
        "clfb = GridSearchCV(clfb, parameters, scoring = 'accuracy', cv=10, iid=False)\n",
        "folds=10\n",
        "result = model_selection.cross_val_score(clfb, X, y, cv=folds)\n",
        "print(\"\\nCross Validation Results %d folds:\" % folds)\n",
        "print(\"Mean Accuracy: %.2f\" % result.mean())\n",
        "print(\"Mean Std: %.2f\" % result.std())\n",
        "\n",
        "# matriz de confusão da validação cruzada\n",
        "Z = model_selection.cross_val_predict(clfb, X, y, cv=folds)\n",
        "cm=confusion_matrix(y, Z)\n",
        "print(\"Confusion Matrix:\")\n",
        "print(cm)"
      ],
      "execution_count": 0,
      "outputs": [
        {
          "output_type": "stream",
          "text": [
            "(178, 14)\n",
            "{'C': 1000, 'gamma': 0.0001, 'kernel': 'rbf'}\n",
            "Accuracy = 0.94 \n",
            "Confusion Matrix:\n",
            "[[18  0  0]\n",
            " [ 1 20  0]\n",
            " [ 0  2 13]]\n"
          ],
          "name": "stdout"
        }
      ]
    }
  ]
}