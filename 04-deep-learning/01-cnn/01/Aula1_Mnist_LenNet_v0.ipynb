{
  "nbformat": 4,
  "nbformat_minor": 0,
  "metadata": {
    "colab": {
      "name": "Mnist_LenNet_v0.ipynb",
      "provenance": [],
      "collapsed_sections": []
    },
    "kernelspec": {
      "name": "python3",
      "display_name": "Python 3"
    },
    "accelerator": "GPU"
  },
  "cells": [
    {
      "cell_type": "code",
      "metadata": {
        "id": "4MxTEFfTcinN",
        "colab_type": "code",
        "colab": {}
      },
      "source": [
        "#Codigo Criado por Luiz Eduardo Soares Emidio da Silva durante o desenvolvimento de um PIBIC \n",
        "from __future__ import print_function\n",
        "\n",
        "import keras\n",
        "from keras.datasets import mnist\n",
        "from keras.models import Sequential\n",
        "from keras.layers import Dense, Dropout, Flatten, Activation\n",
        "from keras.layers import Conv2D, MaxPooling2D, BatchNormalization\n",
        "from keras.callbacks import EarlyStopping\n",
        "from keras.utils import np_utils\n",
        "from keras import regularizers\n",
        "from keras.models import Model\n",
        "\n",
        "from keras import backend as K \n",
        "K.set_learning_phase(1)\n",
        "\n",
        "import matplotlib.pyplot as plt\n",
        "import matplotlib.style as sty\n",
        "\n",
        "from sklearn.metrics import confusion_matrix\n",
        "import numpy as np\n",
        "import itertools\n",
        "\n",
        "import os\n",
        "import random as rn\n",
        "import seaborn as sns\n",
        "\n",
        "import tensorflow as tf\n",
        "\n"
      ],
      "execution_count": 0,
      "outputs": []
    },
    {
      "cell_type": "code",
      "metadata": {
        "id": "LlfoYfcNqnGZ",
        "colab_type": "code",
        "colab": {}
      },
      "source": [
        ""
      ],
      "execution_count": 0,
      "outputs": []
    },
    {
      "cell_type": "code",
      "metadata": {
        "id": "V5T4-_oJdA79",
        "colab_type": "code",
        "colab": {}
      },
      "source": [
        "#Configurações Arbritarias escolhidas para treinamento\n",
        "batch_size = 128\n",
        "num_classes = 10\n",
        "epochs = 10\n",
        "\n",
        "#Cada imagem do MNIST tem o tamanho de 28 por 28 pixels\n",
        "img_rows, img_cols = 28, 28"
      ],
      "execution_count": 0,
      "outputs": []
    },
    {
      "cell_type": "code",
      "metadata": {
        "id": "wa75EfEL0zBO",
        "colab_type": "code",
        "colab": {}
      },
      "source": [
        "#Carregando imagens e plotando alguns exemplos \n",
        "(x_train, y_train), (x_test, y_test) = mnist.load_data()\n",
        " \n",
        "y_train = np_utils.to_categorical(y_train, num_classes)\n",
        "y_test = np_utils.to_categorical(y_test, num_classes)\n",
        "\n",
        "x_train = x_train.reshape(x_train.shape[0], 28, 28, 1)\n",
        "x_test = x_test.reshape(x_test.shape[0], 28, 28, 1)\n",
        "input_shape = (28, 28, 1)\n",
        "\n",
        "x_train = x_train.astype('float32')\n",
        "x_test = x_test.astype('float32')\n",
        "x_train  /= 255.0\n",
        "x_test /= 255.0\n",
        "\n",
        "# plot first 36 images in MNIST\n",
        "fig, ax = plt.subplots(6, 6, figsize = (12, 12))\n",
        "fig.suptitle('First 36 images in MNIST')\n",
        "fig.tight_layout(pad = 0.3, rect = [0, 0, 0.9, 0.9])\n",
        "for x, y in [(i, j) for i in range(6) for j in range(6)]:\n",
        "    ax[x, y].imshow(x_train[x + y * 6].reshape((28, 28)), cmap = 'gray')\n",
        "#    ax[x, y].set_title(y_train[x + y * 6])\n",
        "\n",
        "\n"
      ],
      "execution_count": 0,
      "outputs": []
    },
    {
      "cell_type": "code",
      "metadata": {
        "id": "RS3Ei14Q01-8",
        "colab_type": "code",
        "colab": {}
      },
      "source": [
        "#Inserir estrutura da CNN nessa parte do codigo\n"
      ],
      "execution_count": 0,
      "outputs": []
    },
    {
      "cell_type": "code",
      "metadata": {
        "id": "TW2m-zA9dI8S",
        "colab_type": "code",
        "colab": {}
      },
      "source": [
        "# Compilar a CNN\n"
      ],
      "execution_count": 0,
      "outputs": []
    },
    {
      "cell_type": "code",
      "metadata": {
        "id": "jo0MEMos1ApL",
        "colab_type": "code",
        "colab": {}
      },
      "source": [
        "# Imprimir a topologia\n"
      ],
      "execution_count": 0,
      "outputs": []
    },
    {
      "cell_type": "code",
      "metadata": {
        "id": "eY0HRy_t1Jua",
        "colab_type": "code",
        "colab": {}
      },
      "source": [
        "# Treinar a CNN\n"
      ],
      "execution_count": 0,
      "outputs": []
    },
    {
      "cell_type": "code",
      "metadata": {
        "id": "lZTfq2eq1M4K",
        "colab_type": "code",
        "colab": {}
      },
      "source": [
        "# Executar a avaliação (teste)\n"
      ],
      "execution_count": 0,
      "outputs": []
    },
    {
      "cell_type": "code",
      "metadata": {
        "id": "efplgnzS1PNB",
        "colab_type": "code",
        "colab": {}
      },
      "source": [
        "# Plotar o grafico do histórico de evolução do treinamento\n"
      ],
      "execution_count": 0,
      "outputs": []
    },
    {
      "cell_type": "code",
      "metadata": {
        "id": "laG1nF5x1Xyq",
        "colab_type": "code",
        "colab": {}
      },
      "source": [
        "# Preparar Matriz de Confusão\n"
      ],
      "execution_count": 0,
      "outputs": []
    },
    {
      "cell_type": "code",
      "metadata": {
        "id": "EDb9J1lA1ayQ",
        "colab_type": "code",
        "colab": {}
      },
      "source": [
        "# Plotar a matrix de confusão \n",
        "def plot_confusion_matrix(cm, classes,\n",
        "                          normalize=False,\n",
        "                          title=None,\n",
        "                          cmap=plt.cm.Blues):\n",
        "  plt.imshow(cm, interpolation = 'nearest',cmap=cmap)\n",
        "  plt.title(title)\n",
        "  plt.colorbar()\n",
        "  tick_marks = np.arange(len(classes))\n",
        "  plt.xticks(tick_marks, classes, rotation = 45)\n",
        "  plt.yticks(tick_marks, classes)\n",
        "  \n",
        "  if normalize:\n",
        "    cm = cm.astype('float')/cm.sum(axis=1)[:,np.newaxis]\n",
        "    print(\"Normalized confusion matrix\")\n",
        "  else:\n",
        "    print(\"Confusion matrix, without normalization\")\n",
        "  \n",
        "  print(cm)\n",
        "  \n",
        "  thresh = cm.max()/2\n",
        "  for i, j in itertools.product(range(cm.shape[0]),range(cm.shape[1])):\n",
        "    plt.text(j, i, cm[i,j], horizontalalignment=\"center\", color=\"white\" if cm[i,j]>thresh else \"black\")\n",
        "   \n",
        "  plt.tight_layout()\n",
        "  plt.ylabel('True label')\n",
        "  plt.xlabel('Predicted label')"
      ],
      "execution_count": 0,
      "outputs": []
    },
    {
      "cell_type": "code",
      "metadata": {
        "id": "C7G31B6C11j0",
        "colab_type": "code",
        "colab": {}
      },
      "source": [
        "# plota mapas de features\n",
        "layer_dict = dict([(layer.name, layer) for layer in model.layers])\n",
        "# util function to convert a tensor into a valid image\n",
        "def deprocess_image(x):\n",
        "    # normalize tensor: center on 0., ensure std is 0.1\n",
        "    x -= x.mean()\n",
        "    x /= (x.std() + 1e-5)\n",
        "    x *= 0.1\n",
        "\n",
        "    # clip to [0, 1]\n",
        "    x += 0.5\n",
        "    x = np.clip(x, 0, 1)\n",
        "\n",
        "    # convert to RGB array\n",
        "    x *= 255\n",
        "    #x = x.transpose((1, 2, 0))\n",
        "    x = np.clip(x, 0, 255).astype('uint8')\n",
        "    return x\n",
        "\n",
        "def vis_img_in_filter(img = np.array(x_train[0]).reshape((1, 28, 28, 1)).astype(np.float64), \n",
        "                      layer_name = 'conv2d_4'):\n",
        "    layer_output = layer_dict[layer_name].output\n",
        "    img_ascs = list()\n",
        "    for filter_index in range(layer_output.shape[3]):\n",
        "        # build a loss function that maximizes the activation\n",
        "        # of the nth filter of the layer considered\n",
        "        loss = K.mean(layer_output[:, :, :, filter_index])\n",
        "\n",
        "        # compute the gradient of the input picture wrt this loss\n",
        "        grads = K.gradients(loss, model.input)[0]\n",
        "\n",
        "        # normalization trick: we normalize the gradient\n",
        "        grads /= (K.sqrt(K.mean(K.square(grads))) + 1e-5)\n",
        "\n",
        "        # this function returns the loss and grads given the input picture\n",
        "        iterate = K.function([model.input], [loss, grads])\n",
        "\n",
        "        # step size for gradient ascent\n",
        "        step = 5.\n",
        "\n",
        "        img_asc = np.array(img)\n",
        "        # run gradient ascent for 20 steps\n",
        "        for i in range(20):\n",
        "            loss_value, grads_value = iterate([img_asc])\n",
        "            img_asc += grads_value * step\n",
        "\n",
        "        img_asc = img_asc[0]\n",
        "        img_ascs.append(deprocess_image(img_asc).reshape((28, 28)))\n",
        "        \n",
        "    if layer_output.shape[3] >= 35:\n",
        "        plot_x, plot_y = 10, 10\n",
        "    elif layer_output.shape[3] >= 23:\n",
        "        plot_x, plot_y = 4, 6\n",
        "    elif layer_output.shape[3] >= 11:\n",
        "        plot_x, plot_y = 2, 6\n",
        "    else:\n",
        "        plot_x, plot_y = 1, 2\n",
        "    fig, ax = plt.subplots(plot_x, plot_y, figsize = (12, 12))\n",
        "    ax[0, 0].imshow(img.reshape((28, 28)), cmap = 'gray')\n",
        "    ax[0, 0].set_title('Input image')\n",
        "    fig.suptitle('Input image and %s filters' % (layer_name,))\n",
        "    fig.tight_layout(pad = 0.3, rect = [0, 0, 0.9, 0.9])\n",
        "    for (x, y) in [(i, j) for i in range(plot_x) for j in range(plot_y)]:\n",
        "        if x == 0 and y == 0:\n",
        "            continue\n",
        "        ax[x, y].imshow(img_ascs[x * plot_y + y - 1], cmap = 'gray')\n",
        "        ax[x, y].set_title('filter %d' % (x * plot_y + y - 1))\n",
        "vis_img_in_filter()"
      ],
      "execution_count": 0,
      "outputs": []
    },
    {
      "cell_type": "code",
      "metadata": {
        "id": "XRXFqMwAdNHJ",
        "colab_type": "code",
        "colab": {}
      },
      "source": [
        "# Usar como extrator de características\n"
      ],
      "execution_count": 0,
      "outputs": []
    }
  ]
}