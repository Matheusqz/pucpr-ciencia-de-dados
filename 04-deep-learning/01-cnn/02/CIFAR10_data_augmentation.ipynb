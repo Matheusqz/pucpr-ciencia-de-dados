{
  "nbformat": 4,
  "nbformat_minor": 0,
  "metadata": {
    "colab": {
      "name": "CIFAR10_data_augmentation.ipynb",
      "provenance": []
    },
    "kernelspec": {
      "name": "python3",
      "display_name": "Python 3"
    },
    "accelerator": "GPU"
  },
  "cells": [
    {
      "cell_type": "code",
      "metadata": {
        "id": "Z8dPI5LTwjHn",
        "colab_type": "code",
        "colab": {
          "base_uri": "https://localhost:8080/",
          "height": 80
        },
        "outputId": "6c43e3c0-68cd-41d2-808a-c134ce109d2e"
      },
      "source": [
        "import sys\n",
        "from matplotlib import pyplot\n",
        "from keras.datasets import cifar10\n",
        "from keras.utils import to_categorical\n",
        "from keras.models import Sequential\n",
        "from keras.layers import Conv2D, BatchNormalization\n",
        "from keras.callbacks import EarlyStopping\n",
        "from keras.layers import MaxPooling2D\n",
        "from keras.layers import Dense\n",
        "from keras.layers import Flatten\n",
        "from keras.optimizers import SGD\n",
        "from keras.preprocessing.image import ImageDataGenerator\n",
        "from keras.layers import Dropout\n",
        "from keras import regularizers\n",
        "import keras"
      ],
      "execution_count": 1,
      "outputs": [
        {
          "output_type": "stream",
          "text": [
            "Using TensorFlow backend.\n"
          ],
          "name": "stderr"
        },
        {
          "output_type": "display_data",
          "data": {
            "text/html": [
              "<p style=\"color: red;\">\n",
              "The default version of TensorFlow in Colab will soon switch to TensorFlow 2.x.<br>\n",
              "We recommend you <a href=\"https://www.tensorflow.org/guide/migrate\" target=\"_blank\">upgrade</a> now \n",
              "or ensure your notebook will continue to use TensorFlow 1.x via the <code>%tensorflow_version 1.x</code> magic:\n",
              "<a href=\"https://colab.research.google.com/notebooks/tensorflow_version.ipynb\" target=\"_blank\">more info</a>.</p>\n"
            ],
            "text/plain": [
              "<IPython.core.display.HTML object>"
            ]
          },
          "metadata": {
            "tags": []
          }
        }
      ]
    },
    {
      "cell_type": "code",
      "metadata": {
        "id": "mZkRSmp5wYoi",
        "colab_type": "code",
        "colab": {}
      },
      "source": [
        "# load train and test dataset\n",
        "def load_dataset():\n",
        "\t# load dataset\n",
        "\t(trainX, trainY), (testX, testY) = cifar10.load_data()\n",
        "\t# one hot encode target values\n",
        "\ttrainY = to_categorical(trainY)\n",
        "\ttestY = to_categorical(testY)\n",
        "\treturn trainX, trainY, testX, testY\n",
        " "
      ],
      "execution_count": 0,
      "outputs": []
    },
    {
      "cell_type": "code",
      "metadata": {
        "id": "Jpgh3U-_wyT3",
        "colab_type": "code",
        "colab": {}
      },
      "source": [
        "# scale pixels\n",
        "def prep_pixels(train, test):\n",
        "\t# convert from integers to floats\n",
        "\ttrain_norm = train.astype('float32')\n",
        "\ttest_norm = test.astype('float32')\n",
        "\t# normalize to range 0-1\n",
        "\ttrain_norm = train_norm / 255.0\n",
        "\ttest_norm = test_norm / 255.0\n",
        "\t# return normalized images\n",
        "\treturn train_norm, test_norm"
      ],
      "execution_count": 0,
      "outputs": []
    },
    {
      "cell_type": "code",
      "metadata": {
        "id": "F6GRQsakw2F7",
        "colab_type": "code",
        "colab": {}
      },
      "source": [
        "# define cnn model\n",
        "def define_model(img_size=32):\n",
        "\tbatch_size=128\n",
        "\tweight_decay=1e-4\n",
        "\tmodel = Sequential()\n",
        "\tmodel.add(Conv2D(64, (3, 3), activation='relu', kernel_regularizer=regularizers.l2(weight_decay), kernel_initializer='he_uniform', padding='same', input_shape=(img_size, img_size, 3)))\n",
        "\tmodel.add(MaxPooling2D((2, 2)))\n",
        "\tmodel.add(BatchNormalization())\n",
        "\tmodel.add(Dropout(0.2))\n",
        " \n",
        "\tmodel.add(Conv2D(128, (3, 3), activation='relu', kernel_regularizer=regularizers.l2(weight_decay), kernel_initializer='he_uniform', padding='same'))\n",
        "\tmodel.add(MaxPooling2D((2, 2)))\n",
        "\tmodel.add(BatchNormalization())\n",
        "\tmodel.add(Dropout(0.3))\n",
        "\n",
        "\tmodel.add(Conv2D(256, (3, 3), activation='relu', kernel_regularizer=regularizers.l2(weight_decay), kernel_initializer='he_uniform', padding='same'))\n",
        "\tmodel.add(MaxPooling2D((2, 2)))\n",
        "\tmodel.add(BatchNormalization())\n",
        "\tmodel.add(Dropout(0.4))\n",
        "\n",
        "\tmodel.add(Flatten())\n",
        "\tmodel.add(Dense(4096, activation='relu', kernel_initializer='he_uniform'))\n",
        "\tmodel.add(Dropout(0.5))\n",
        "\tmodel.add(Dense(10, activation='softmax'))\n",
        "\t# compile model\n",
        "\tmodel.compile(loss=keras.losses.categorical_crossentropy,\n",
        "              optimizer=keras.optimizers.Adadelta(),\n",
        "              metrics=['accuracy'])\n",
        "\t#opt = SGD(lr=0.001, momentum=0.3)\n",
        "\t#model.compile(optimizer=opt, loss='categorical_crossentropy', metrics=['accuracy'])\n",
        "\treturn model\n"
      ],
      "execution_count": 0,
      "outputs": []
    },
    {
      "cell_type": "code",
      "metadata": {
        "id": "iqMmamC9w5OD",
        "colab_type": "code",
        "colab": {}
      },
      "source": [
        "# plot diagnostic learning curves\n",
        "def summarize_diagnostics(history):\n",
        "\t# plot loss\n",
        "\tpyplot.subplot(211)\n",
        "\tpyplot.title('Cross Entropy Loss')\n",
        "\tpyplot.plot(history.history['loss'], color='blue', label='train')\n",
        "\tpyplot.plot(history.history['val_loss'], color='orange', label='test')\n",
        "\t# plot accuracy\n",
        "\tpyplot.subplot(212)\n",
        "\tpyplot.title('Classification Accuracy')\n",
        "\tpyplot.plot(history.history['acc'], color='blue', label='train')\n",
        "\tpyplot.plot(history.history['val_acc'], color='orange', label='test')\n",
        "\t# save plot to file\n",
        "\tfilename = sys.argv[0].split('/')[-1]\n",
        "\tpyplot.savefig(filename + '_plot.png')\n",
        "\tpyplot.close()"
      ],
      "execution_count": 0,
      "outputs": []
    },
    {
      "cell_type": "code",
      "metadata": {
        "id": "rUlOJh5Kw-JS",
        "colab_type": "code",
        "outputId": "ce1b3433-2caf-4496-b083-b36c170c201b",
        "colab": {
          "base_uri": "https://localhost:8080/",
          "height": 544
        }
      },
      "source": [
        "\n",
        "# load dataset\n",
        "trainX, trainY, testX, testY = load_dataset()\n",
        "# prepare pixel data\n",
        "trainX, testX = prep_pixels(trainX, testX)\n",
        "# define model\n",
        "model = define_model()\n",
        "# create data generator\n",
        "datagen = ImageDataGenerator(width_shift_range=0.1, height_shift_range=0.1, horizontal_flip=True)\n",
        "\n",
        "# Apply the generator\n",
        "datagen.fit(trainX)\n",
        "\n",
        "# prepare iterator\n",
        "it_train = datagen.flow(trainX, trainY, batch_size=128)\n",
        "# fit model\n",
        "steps = int(trainX.shape[0] / 64)\n",
        "history = model.fit_generator(it_train, steps_per_epoch=len(trainX) / 32, epochs=15, validation_data=(testX, testY), verbose=1)\n",
        "# evaluate model\n",
        "_, acc = model.evaluate(testX, testY, verbose=0)\n",
        "print('> %.3f' % (acc * 100.0))\n",
        "# learning curves\n",
        "summarize_diagnostics(history)\n",
        "\n"
      ],
      "execution_count": 9,
      "outputs": [
        {
          "output_type": "stream",
          "text": [
            "Epoch 1/15\n",
            "1563/1562 [==============================] - 148s 95ms/step - loss: 1.5046 - acc: 0.5405 - val_loss: 1.0162 - val_acc: 0.6886\n",
            "Epoch 2/15\n",
            "1563/1562 [==============================] - 144s 92ms/step - loss: 1.0313 - acc: 0.6829 - val_loss: 0.9594 - val_acc: 0.7189\n",
            "Epoch 3/15\n",
            "1563/1562 [==============================] - 143s 92ms/step - loss: 0.9048 - acc: 0.7318 - val_loss: 0.8274 - val_acc: 0.7657\n",
            "Epoch 4/15\n",
            "1563/1562 [==============================] - 142s 91ms/step - loss: 0.8221 - acc: 0.7624 - val_loss: 0.7322 - val_acc: 0.8017\n",
            "Epoch 5/15\n",
            "1563/1562 [==============================] - 143s 92ms/step - loss: 0.7623 - acc: 0.7837 - val_loss: 0.7749 - val_acc: 0.7888\n",
            "Epoch 6/15\n",
            "1563/1562 [==============================] - 143s 91ms/step - loss: 0.7112 - acc: 0.8000 - val_loss: 0.6607 - val_acc: 0.8248\n",
            "Epoch 7/15\n",
            "1563/1562 [==============================] - 143s 92ms/step - loss: 0.6720 - acc: 0.8134 - val_loss: 0.8130 - val_acc: 0.7678\n",
            "Epoch 8/15\n",
            "1563/1562 [==============================] - 145s 93ms/step - loss: 0.6380 - acc: 0.8242 - val_loss: 0.6272 - val_acc: 0.8392\n",
            "Epoch 9/15\n",
            "1563/1562 [==============================] - 147s 94ms/step - loss: 0.6129 - acc: 0.8340 - val_loss: 0.6634 - val_acc: 0.8196\n",
            "Epoch 10/15\n",
            "1563/1562 [==============================] - 145s 93ms/step - loss: 0.5918 - acc: 0.8408 - val_loss: 0.6257 - val_acc: 0.8358\n",
            "Epoch 11/15\n",
            "1563/1562 [==============================] - 143s 91ms/step - loss: 0.5725 - acc: 0.8481 - val_loss: 0.6542 - val_acc: 0.8269\n",
            "Epoch 12/15\n",
            "1563/1562 [==============================] - 142s 91ms/step - loss: 0.5554 - acc: 0.8543 - val_loss: 0.5983 - val_acc: 0.8493\n",
            "Epoch 13/15\n",
            "1563/1562 [==============================] - 141s 91ms/step - loss: 0.5413 - acc: 0.8593 - val_loss: 0.6029 - val_acc: 0.8446\n",
            "Epoch 14/15\n",
            "1563/1562 [==============================] - 141s 90ms/step - loss: 0.5326 - acc: 0.8626 - val_loss: 0.6249 - val_acc: 0.8377\n",
            "Epoch 15/15\n",
            "1563/1562 [==============================] - 140s 90ms/step - loss: 0.5193 - acc: 0.8669 - val_loss: 0.6100 - val_acc: 0.8473\n",
            "> 84.730\n"
          ],
          "name": "stdout"
        }
      ]
    }
  ]
}