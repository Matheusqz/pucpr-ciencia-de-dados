{
  "nbformat": 4,
  "nbformat_minor": 0,
  "metadata": {
    "colab": {
      "name": "Text_Classification_LSTM_emotions.ipynb",
      "provenance": []
    },
    "kernelspec": {
      "name": "python3",
      "display_name": "Python 3"
    },
    "accelerator": "GPU"
  },
  "cells": [
    {
      "cell_type": "code",
      "metadata": {
        "id": "bTwRw3xNX5cj",
        "colab_type": "code",
        "colab": {}
      },
      "source": [
        "import tensorflow as tf"
      ],
      "execution_count": 0,
      "outputs": []
    },
    {
      "cell_type": "code",
      "metadata": {
        "id": "X2m2QySzYw0W",
        "colab_type": "code",
        "outputId": "61b7b210-e5de-4c4b-bf6e-87be6f6bc0b1",
        "colab": {
          "base_uri": "https://localhost:8080/",
          "height": 68
        }
      },
      "source": [
        "import nltk\n",
        "nltk.download('stopwords')"
      ],
      "execution_count": 0,
      "outputs": [
        {
          "output_type": "stream",
          "text": [
            "[nltk_data] Downloading package stopwords to /root/nltk_data...\n",
            "[nltk_data]   Package stopwords is already up-to-date!\n"
          ],
          "name": "stdout"
        },
        {
          "output_type": "execute_result",
          "data": {
            "text/plain": [
              "True"
            ]
          },
          "metadata": {
            "tags": []
          },
          "execution_count": 893
        }
      ]
    },
    {
      "cell_type": "code",
      "metadata": {
        "id": "8BbO35yiYA01",
        "colab_type": "code",
        "colab": {}
      },
      "source": [
        "import csv\n",
        "import tensorflow as tf\n",
        "import numpy as np\n",
        "from tensorflow.keras.preprocessing.text import Tokenizer\n",
        "from tensorflow.keras.preprocessing.sequence import pad_sequences\n",
        "from nltk.corpus import stopwords\n",
        "from string import punctuation\n",
        "from sklearn.model_selection import train_test_split\n",
        "#STOPWORDS = set(stopwords.words('portuguese'))\n",
        "\n",
        "STOPWORDS = set(stopwords.words('portuguese') + list(punctuation))\n"
      ],
      "execution_count": 0,
      "outputs": []
    },
    {
      "cell_type": "code",
      "metadata": {
        "id": "aCM22r2KZExP",
        "colab_type": "code",
        "colab": {}
      },
      "source": [
        "# Parâmetros Principais\n",
        "\n",
        "# Tamanho do vocabulário a ser criado com o tokenizer. Este considera as N palavras mais comuns (ou frequentes nos textos)\n",
        "vocab_size = 5000\n",
        "\n",
        "# Tamanho do vetor de características que representa cada palavra. Cada palavra é transformada para um vetor com 64 entradas.\n",
        "embedding_dim = 64\n",
        "\n",
        "# Tamanho máximo da sequência de códigos que representa um texto (tamanho do feature vector)\n",
        "max_length = 35\n",
        "\n",
        "# Tipo de truncagem a ser utilizado, 'post' significa remover valores do final da sequência.\n",
        "trunc_type = 'post'\n",
        "\n",
        "# Tipo de padding a ser utilizado, 'post' significa completar no final da sequência.\n",
        "padding_type = 'post'\n",
        "\n",
        "# Token a ser utilizado quando uma palavra não presente no vocabulário é encontrada no texto\n",
        "Not_known = '<NKN>'\n",
        "\n",
        "# Porcentagem de instâncias a ser utilizada no treinamento\n",
        "training_portion = .7"
      ],
      "execution_count": 0,
      "outputs": []
    },
    {
      "cell_type": "code",
      "metadata": {
        "id": "loZOoQUMZJZE",
        "colab_type": "code",
        "outputId": "86796e5f-7d49-4423-e534-dcff9ed89cdb",
        "colab": {
          "base_uri": "https://localhost:8080/",
          "height": 139
        }
      },
      "source": [
        "# Carrega os textos. Em X o texto de entrada e em y os rótulos.\n",
        "# Cada linha do texto carrega é filtrada para retirada de stopwords.\n",
        "\n",
        "def ler(file):\n",
        "    with open(file, 'r', encoding='latin-1') as csvfile:\n",
        "        texto = csv.reader(csvfile, delimiter=';')      # lê um texto do arquivo\n",
        "        print(texto)\n",
        "        next(texto)\n",
        "        for linha in texto:       # processa cada linha do texto\n",
        "            y.append(linha[2])\n",
        "            aux = linha[0]\n",
        "            for word in STOPWORDS:        # retirada de stopwords\n",
        "                token = ' ' + word + ' '\n",
        "                aux = aux.replace(token, ' ')\n",
        "                aux = aux.replace(' ', ' ')\n",
        "            X.append(aux)\n",
        "X = []\n",
        "y = []\n",
        "ler('g1_v2_ws.csv')\n",
        "ler('g1_v1_ws.csv')\n",
        "\n",
        "print(len(y))       # quantidade de rótulos\n",
        "print(len(X))       # quantidade de textos\n",
        "\n",
        "train_X, validation_X, train_y, validation_y = train_test_split(X,y,test_size=.3, random_state=42, stratify=y)\n",
        "print(train_y)\n",
        "print(validation_y)"
      ],
      "execution_count": 0,
      "outputs": [
        {
          "output_type": "stream",
          "text": [
            "<_csv.reader object at 0x7f4b2f4135f8>\n",
            "<_csv.reader object at 0x7f4b2f4135f8>\n",
            "2732\n",
            "2732\n",
            "['alegria', 'medo', 'medo', 'alegria', 'tristeza', 'desgosto', 'tristeza', 'desgosto', 'desgosto', 'alegria', 'desgosto', 'neutro', 'desgosto', 'surpresa', 'alegria', 'surpresa', 'medo', 'surpresa', 'desgosto', 'raiva', 'desgosto', 'raiva', 'medo', 'neutro', 'raiva', 'surpresa', 'tristeza', 'desgosto', 'surpresa', 'medo', 'tristeza', 'medo', 'alegria', 'alegria', 'alegria', 'tristeza', 'alegria', 'alegria', 'medo', 'alegria', 'tristeza', 'desgosto', 'alegria', 'alegria', 'neutro', 'tristeza', 'desgosto', 'tristeza', 'surpresa', 'tristeza', 'tristeza', 'neutro', 'surpresa', 'tristeza', 'tristeza', 'alegria', 'surpresa', 'tristeza', 'tristeza', 'desgosto', 'tristeza', 'tristeza', 'tristeza', 'neutro', 'raiva', 'alegria', 'desgosto', 'neutro', 'tristeza', 'alegria', 'tristeza', 'alegria', 'raiva', 'raiva', 'desgosto', 'tristeza', 'desgosto', 'surpresa', 'neutro', 'surpresa', 'medo', 'alegria', 'neutro', 'desgosto', 'surpresa', 'desgosto', 'tristeza', 'tristeza', 'tristeza', 'raiva', 'surpresa', 'raiva', 'desgosto', 'alegria', 'alegria', 'alegria', 'desgosto', 'surpresa', 'alegria', 'neutro', 'desgosto', 'tristeza', 'alegria', 'medo', 'alegria', 'alegria', 'alegria', 'surpresa', 'desgosto', 'neutro', 'tristeza', 'desgosto', 'alegria', 'alegria', 'medo', 'raiva', 'tristeza', 'alegria', 'medo', 'medo', 'tristeza', 'medo', 'tristeza', 'desgosto', 'alegria', 'alegria', 'raiva', 'raiva', 'alegria', 'desgosto', 'tristeza', 'alegria', 'tristeza', 'desgosto', 'surpresa', 'raiva', 'surpresa', 'medo', 'tristeza', 'alegria', 'alegria', 'tristeza', 'alegria', 'neutro', 'alegria', 'neutro', 'neutro', 'surpresa', 'neutro', 'raiva', 'medo', 'surpresa', 'neutro', 'neutro', 'tristeza', 'desgosto', 'alegria', 'tristeza', 'alegria', 'alegria', 'alegria', 'medo', 'raiva', 'alegria', 'desgosto', 'alegria', 'tristeza', 'desgosto', 'raiva', 'alegria', 'tristeza', 'tristeza', 'desgosto', 'alegria', 'tristeza', 'tristeza', 'surpresa', 'alegria', 'medo', 'medo', 'tristeza', 'alegria', 'neutro', 'medo', 'surpresa', 'medo', 'tristeza', 'tristeza', 'alegria', 'tristeza', 'tristeza', 'tristeza', 'tristeza', 'medo', 'alegria', 'medo', 'tristeza', 'medo', 'neutro', 'medo', 'desgosto', 'surpresa', 'medo', 'alegria', 'alegria', 'desgosto', 'medo', 'neutro', 'alegria', 'tristeza', 'tristeza', 'desgosto', 'raiva', 'alegria', 'alegria', 'alegria', 'tristeza', 'alegria', 'desgosto', 'tristeza', 'alegria', 'alegria', 'alegria', 'alegria', 'tristeza', 'desgosto', 'medo', 'desgosto', 'medo', 'alegria', 'desgosto', 'tristeza', 'alegria', 'tristeza', 'tristeza', 'medo', 'surpresa', 'desgosto', 'alegria', 'raiva', 'alegria', 'desgosto', 'raiva', 'neutro', 'alegria', 'alegria', 'medo', 'neutro', 'tristeza', 'desgosto', 'alegria', 'desgosto', 'raiva', 'desgosto', 'alegria', 'tristeza', 'raiva', 'tristeza', 'desgosto', 'neutro', 'desgosto', 'medo', 'alegria', 'alegria', 'medo', 'alegria', 'alegria', 'desgosto', 'tristeza', 'raiva', 'neutro', 'desgosto', 'surpresa', 'desgosto', 'medo', 'raiva', 'desgosto', 'neutro', 'desgosto', 'raiva', 'neutro', 'alegria', 'raiva', 'raiva', 'desgosto', 'tristeza', 'raiva', 'alegria', 'alegria', 'neutro', 'alegria', 'alegria', 'surpresa', 'alegria', 'medo', 'alegria', 'alegria', 'alegria', 'alegria', 'desgosto', 'medo', 'desgosto', 'tristeza', 'desgosto', 'desgosto', 'tristeza', 'neutro', 'surpresa', 'raiva', 'medo', 'desgosto', 'alegria', 'neutro', 'alegria', 'surpresa', 'medo', 'alegria', 'medo', 'alegria', 'surpresa', 'raiva', 'surpresa', 'desgosto', 'desgosto', 'surpresa', 'tristeza', 'alegria', 'tristeza', 'neutro', 'desgosto', 'alegria', 'tristeza', 'alegria', 'neutro', 'alegria', 'surpresa', 'neutro', 'alegria', 'desgosto', 'medo', 'alegria', 'raiva', 'surpresa', 'desgosto', 'raiva', 'desgosto', 'surpresa', 'neutro', 'surpresa', 'medo', 'desgosto', 'raiva', 'alegria', 'alegria', 'alegria', 'tristeza', 'tristeza', 'alegria', 'desgosto', 'tristeza', 'surpresa', 'raiva', 'medo', 'alegria', 'neutro', 'desgosto', 'alegria', 'tristeza', 'tristeza', 'medo', 'tristeza', 'alegria', 'medo', 'desgosto', 'desgosto', 'neutro', 'alegria', 'tristeza', 'desgosto', 'alegria', 'desgosto', 'desgosto', 'desgosto', 'tristeza', 'alegria', 'alegria', 'tristeza', 'medo', 'desgosto', 'neutro', 'desgosto', 'surpresa', 'desgosto', 'surpresa', 'alegria', 'neutro', 'desgosto', 'tristeza', 'desgosto', 'raiva', 'tristeza', 'raiva', 'medo', 'neutro', 'alegria', 'surpresa', 'neutro', 'tristeza', 'alegria', 'desgosto', 'surpresa', 'alegria', 'raiva', 'alegria', 'desgosto', 'neutro', 'desgosto', 'medo', 'tristeza', 'medo', 'desgosto', 'desgosto', 'surpresa', 'neutro', 'surpresa', 'desgosto', 'neutro', 'neutro', 'raiva', 'alegria', 'neutro', 'tristeza', 'medo', 'tristeza', 'alegria', 'alegria', 'raiva', 'alegria', 'alegria', 'surpresa', 'desgosto', 'tristeza', 'alegria', 'alegria', 'raiva', 'neutro', 'alegria', 'medo', 'medo', 'alegria', 'raiva', 'tristeza', 'desgosto', 'alegria', 'raiva', 'alegria', 'desgosto', 'desgosto', 'alegria', 'desgosto', 'desgosto', 'alegria', 'medo', 'raiva', 'neutro', 'surpresa', 'surpresa', 'tristeza', 'tristeza', 'raiva', 'alegria', 'tristeza', 'tristeza', 'raiva', 'alegria', 'neutro', 'alegria', 'tristeza', 'desgosto', 'tristeza', 'neutro', 'desgosto', 'tristeza', 'desgosto', 'medo', 'alegria', 'neutro', 'medo', 'surpresa', 'desgosto', 'surpresa', 'raiva', 'alegria', 'neutro', 'desgosto', 'desgosto', 'alegria', 'alegria', 'raiva', 'alegria', 'desgosto', 'raiva', 'tristeza', 'raiva', 'alegria', 'alegria', 'desgosto', 'neutro', 'tristeza', 'desgosto', 'alegria', 'medo', 'surpresa', 'tristeza', 'raiva', 'tristeza', 'alegria', 'medo', 'neutro', 'alegria', 'tristeza', 'alegria', 'surpresa', 'medo', 'alegria', 'tristeza', 'desgosto', 'desgosto', 'medo', 'raiva', 'desgosto', 'desgosto', 'tristeza', 'neutro', 'tristeza', 'tristeza', 'medo', 'alegria', 'tristeza', 'tristeza', 'medo', 'medo', 'alegria', 'tristeza', 'tristeza', 'raiva', 'alegria', 'alegria', 'alegria', 'surpresa', 'desgosto', 'tristeza', 'alegria', 'raiva', 'alegria', 'raiva', 'neutro', 'alegria', 'alegria', 'tristeza', 'desgosto', 'alegria', 'alegria', 'alegria', 'medo', 'surpresa', 'medo', 'desgosto', 'raiva', 'desgosto', 'tristeza', 'surpresa', 'desgosto', 'alegria', 'medo', 'desgosto', 'alegria', 'alegria', 'desgosto', 'medo', 'raiva', 'alegria', 'tristeza', 'surpresa', 'alegria', 'alegria', 'desgosto', 'alegria', 'desgosto', 'tristeza', 'surpresa', 'tristeza', 'alegria', 'neutro', 'alegria', 'raiva', 'alegria', 'desgosto', 'neutro', 'alegria', 'surpresa', 'desgosto', 'alegria', 'desgosto', 'desgosto', 'tristeza', 'medo', 'medo', 'tristeza', 'alegria', 'alegria', 'tristeza', 'alegria', 'alegria', 'desgosto', 'desgosto', 'raiva', 'surpresa', 'alegria', 'raiva', 'raiva', 'alegria', 'alegria', 'surpresa', 'medo', 'tristeza', 'alegria', 'alegria', 'neutro', 'alegria', 'neutro', 'tristeza', 'medo', 'desgosto', 'raiva', 'desgosto', 'raiva', 'raiva', 'raiva', 'surpresa', 'tristeza', 'surpresa', 'surpresa', 'alegria', 'neutro', 'tristeza', 'medo', 'desgosto', 'tristeza', 'alegria', 'raiva', 'desgosto', 'alegria', 'alegria', 'medo', 'desgosto', 'medo', 'tristeza', 'surpresa', 'surpresa', 'tristeza', 'alegria', 'surpresa', 'desgosto', 'raiva', 'tristeza', 'alegria', 'medo', 'neutro', 'medo', 'alegria', 'medo', 'desgosto', 'tristeza', 'alegria', 'tristeza', 'alegria', 'desgosto', 'tristeza', 'desgosto', 'alegria', 'desgosto', 'tristeza', 'tristeza', 'surpresa', 'raiva', 'tristeza', 'neutro', 'tristeza', 'surpresa', 'raiva', 'neutro', 'raiva', 'medo', 'surpresa', 'neutro', 'tristeza', 'tristeza', 'alegria', 'neutro', 'tristeza', 'tristeza', 'alegria', 'raiva', 'raiva', 'neutro', 'medo', 'raiva', 'neutro', 'raiva', 'neutro', 'desgosto', 'tristeza', 'desgosto', 'neutro', 'medo', 'tristeza', 'medo', 'tristeza', 'alegria', 'tristeza', 'desgosto', 'tristeza', 'neutro', 'tristeza', 'desgosto', 'surpresa', 'raiva', 'tristeza', 'desgosto', 'tristeza', 'raiva', 'alegria', 'desgosto', 'desgosto', 'medo', 'desgosto', 'tristeza', 'surpresa', 'neutro', 'neutro', 'desgosto', 'tristeza', 'raiva', 'raiva', 'surpresa', 'tristeza', 'alegria', 'desgosto', 'alegria', 'surpresa', 'desgosto', 'surpresa', 'medo', 'alegria', 'surpresa', 'alegria', 'surpresa', 'alegria', 'tristeza', 'raiva', 'tristeza', 'raiva', 'desgosto', 'desgosto', 'raiva', 'alegria', 'tristeza', 'desgosto', 'surpresa', 'tristeza', 'desgosto', 'medo', 'surpresa', 'raiva', 'tristeza', 'medo', 'desgosto', 'neutro', 'alegria', 'alegria', 'desgosto', 'alegria', 'raiva', 'surpresa', 'tristeza', 'surpresa', 'tristeza', 'tristeza', 'alegria', 'tristeza', 'tristeza', 'tristeza', 'alegria', 'medo', 'surpresa', 'medo', 'desgosto', 'desgosto', 'tristeza', 'desgosto', 'surpresa', 'medo', 'tristeza', 'surpresa', 'neutro', 'raiva', 'surpresa', 'tristeza', 'tristeza', 'neutro', 'alegria', 'tristeza', 'raiva', 'desgosto', 'raiva', 'desgosto', 'desgosto', 'raiva', 'surpresa', 'neutro', 'raiva', 'tristeza', 'surpresa', 'alegria', 'neutro', 'alegria', 'neutro', 'tristeza', 'surpresa', 'desgosto', 'alegria', 'tristeza', 'desgosto', 'alegria', 'surpresa', 'neutro', 'medo', 'alegria', 'raiva', 'medo', 'desgosto', 'desgosto', 'alegria', 'alegria', 'desgosto', 'surpresa', 'desgosto', 'tristeza', 'alegria', 'raiva', 'neutro', 'desgosto', 'desgosto', 'raiva', 'desgosto', 'desgosto', 'desgosto', 'medo', 'medo', 'neutro', 'raiva', 'tristeza', 'surpresa', 'desgosto', 'medo', 'surpresa', 'alegria', 'tristeza', 'raiva', 'alegria', 'medo', 'neutro', 'alegria', 'tristeza', 'alegria', 'alegria', 'desgosto', 'medo', 'alegria', 'surpresa', 'alegria', 'surpresa', 'neutro', 'raiva', 'desgosto', 'tristeza', 'tristeza', 'tristeza', 'medo', 'medo', 'tristeza', 'alegria', 'desgosto', 'raiva', 'raiva', 'desgosto', 'neutro', 'medo', 'alegria', 'desgosto', 'desgosto', 'alegria', 'alegria', 'tristeza', 'alegria', 'desgosto', 'surpresa', 'tristeza', 'alegria', 'medo', 'tristeza', 'alegria', 'surpresa', 'surpresa', 'desgosto', 'medo', 'alegria', 'alegria', 'tristeza', 'alegria', 'alegria', 'medo', 'alegria', 'neutro', 'surpresa', 'tristeza', 'neutro', 'surpresa', 'surpresa', 'surpresa', 'desgosto', 'tristeza', 'medo', 'desgosto', 'alegria', 'alegria', 'tristeza', 'desgosto', 'medo', 'raiva', 'alegria', 'raiva', 'desgosto', 'raiva', 'surpresa', 'desgosto', 'surpresa', 'neutro', 'alegria', 'surpresa', 'desgosto', 'desgosto', 'desgosto', 'alegria', 'alegria', 'raiva', 'surpresa', 'medo', 'alegria', 'desgosto', 'surpresa', 'neutro', 'medo', 'alegria', 'desgosto', 'desgosto', 'medo', 'surpresa', 'raiva', 'desgosto', 'medo', 'raiva', 'neutro', 'medo', 'desgosto', 'tristeza', 'desgosto', 'neutro', 'alegria', 'alegria', 'raiva', 'tristeza', 'tristeza', 'raiva', 'alegria', 'raiva', 'surpresa', 'neutro', 'desgosto', 'neutro', 'tristeza', 'tristeza', 'medo', 'alegria', 'desgosto', 'desgosto', 'tristeza', 'raiva', 'desgosto', 'medo', 'desgosto', 'desgosto', 'tristeza', 'tristeza', 'neutro', 'surpresa', 'raiva', 'neutro', 'neutro', 'surpresa', 'desgosto', 'desgosto', 'raiva', 'medo', 'tristeza', 'surpresa', 'desgosto', 'desgosto', 'surpresa', 'desgosto', 'desgosto', 'alegria', 'medo', 'medo', 'medo', 'raiva', 'alegria', 'medo', 'alegria', 'alegria', 'neutro', 'neutro', 'medo', 'alegria', 'raiva', 'neutro', 'medo', 'tristeza', 'neutro', 'raiva', 'alegria', 'alegria', 'surpresa', 'raiva', 'neutro', 'alegria', 'tristeza', 'neutro', 'tristeza', 'neutro', 'raiva', 'neutro', 'alegria', 'desgosto', 'medo', 'desgosto', 'medo', 'alegria', 'desgosto', 'neutro', 'tristeza', 'raiva', 'medo', 'alegria', 'tristeza', 'alegria', 'alegria', 'raiva', 'surpresa', 'alegria', 'alegria', 'raiva', 'raiva', 'alegria', 'surpresa', 'alegria', 'neutro', 'raiva', 'tristeza', 'raiva', 'medo', 'desgosto', 'neutro', 'tristeza', 'alegria', 'raiva', 'tristeza', 'desgosto', 'alegria', 'raiva', 'tristeza', 'alegria', 'surpresa', 'surpresa', 'desgosto', 'raiva', 'tristeza', 'medo', 'alegria', 'raiva', 'alegria', 'desgosto', 'surpresa', 'raiva', 'raiva', 'surpresa', 'tristeza', 'desgosto', 'tristeza', 'surpresa', 'desgosto', 'alegria', 'tristeza', 'neutro', 'tristeza', 'raiva', 'neutro', 'surpresa', 'desgosto', 'raiva', 'alegria', 'medo', 'alegria', 'desgosto', 'neutro', 'tristeza', 'raiva', 'tristeza', 'surpresa', 'tristeza', 'alegria', 'medo', 'desgosto', 'desgosto', 'raiva', 'desgosto', 'tristeza', 'surpresa', 'tristeza', 'surpresa', 'neutro', 'tristeza', 'medo', 'tristeza', 'surpresa', 'desgosto', 'alegria', 'medo', 'neutro', 'surpresa', 'neutro', 'surpresa', 'tristeza', 'raiva', 'alegria', 'alegria', 'tristeza', 'neutro', 'alegria', 'tristeza', 'tristeza', 'desgosto', 'desgosto', 'raiva', 'neutro', 'tristeza', 'surpresa', 'raiva', 'alegria', 'neutro', 'surpresa', 'desgosto', 'tristeza', 'neutro', 'raiva', 'medo', 'neutro', 'medo', 'surpresa', 'medo', 'alegria', 'alegria', 'alegria', 'neutro', 'tristeza', 'medo', 'raiva', 'desgosto', 'raiva', 'surpresa', 'tristeza', 'surpresa', 'surpresa', 'alegria', 'desgosto', 'tristeza', 'raiva', 'neutro', 'surpresa', 'neutro', 'alegria', 'tristeza', 'tristeza', 'alegria', 'alegria', 'medo', 'alegria', 'surpresa', 'medo', 'surpresa', 'surpresa', 'surpresa', 'surpresa', 'alegria', 'raiva', 'alegria', 'raiva', 'tristeza', 'alegria', 'medo', 'alegria', 'surpresa', 'desgosto', 'alegria', 'raiva', 'desgosto', 'tristeza', 'desgosto', 'tristeza', 'surpresa', 'neutro', 'raiva', 'raiva', 'tristeza', 'alegria', 'desgosto', 'surpresa', 'surpresa', 'alegria', 'alegria', 'neutro', 'medo', 'raiva', 'tristeza', 'tristeza', 'raiva', 'medo', 'alegria', 'raiva', 'alegria', 'medo', 'desgosto', 'tristeza', 'raiva', 'tristeza', 'desgosto', 'surpresa', 'alegria', 'alegria', 'surpresa', 'tristeza', 'medo', 'raiva', 'raiva', 'alegria', 'tristeza', 'neutro', 'alegria', 'alegria', 'tristeza', 'raiva', 'neutro', 'tristeza', 'medo', 'alegria', 'surpresa', 'surpresa', 'desgosto', 'raiva', 'tristeza', 'alegria', 'alegria', 'surpresa', 'neutro', 'alegria', 'alegria', 'tristeza', 'tristeza', 'desgosto', 'surpresa', 'raiva', 'medo', 'desgosto', 'tristeza', 'tristeza', 'surpresa', 'medo', 'raiva', 'desgosto', 'alegria', 'alegria', 'medo', 'surpresa', 'desgosto', 'surpresa', 'tristeza', 'neutro', 'surpresa', 'alegria', 'tristeza', 'desgosto', 'alegria', 'tristeza', 'tristeza', 'medo', 'desgosto', 'desgosto', 'neutro', 'tristeza', 'medo', 'raiva', 'desgosto', 'raiva', 'surpresa', 'alegria', 'raiva', 'surpresa', 'raiva', 'tristeza', 'tristeza', 'tristeza', 'medo', 'desgosto', 'desgosto', 'tristeza', 'raiva', 'surpresa', 'alegria', 'medo', 'surpresa', 'alegria', 'neutro', 'tristeza', 'medo', 'surpresa', 'desgosto', 'medo', 'alegria', 'alegria', 'tristeza', 'alegria', 'tristeza', 'alegria', 'tristeza', 'medo', 'medo', 'alegria', 'desgosto', 'raiva', 'raiva', 'surpresa', 'surpresa', 'tristeza', 'tristeza', 'tristeza', 'desgosto', 'desgosto', 'raiva', 'surpresa', 'medo', 'desgosto', 'alegria', 'desgosto', 'alegria', 'tristeza', 'desgosto', 'alegria', 'medo', 'tristeza', 'tristeza', 'raiva', 'neutro', 'medo', 'alegria', 'tristeza', 'alegria', 'medo', 'desgosto', 'alegria', 'medo', 'desgosto', 'alegria', 'alegria', 'alegria', 'desgosto', 'tristeza', 'alegria', 'tristeza', 'desgosto', 'surpresa', 'alegria', 'desgosto', 'desgosto', 'tristeza', 'alegria', 'desgosto', 'alegria', 'alegria', 'raiva', 'neutro', 'neutro', 'desgosto', 'desgosto', 'desgosto', 'medo', 'surpresa', 'raiva', 'raiva', 'tristeza', 'raiva', 'raiva', 'raiva', 'desgosto', 'desgosto', 'tristeza', 'neutro', 'tristeza', 'tristeza', 'tristeza', 'neutro', 'desgosto', 'tristeza', 'desgosto', 'raiva', 'neutro', 'desgosto', 'neutro', 'alegria', 'surpresa', 'alegria', 'alegria', 'tristeza', 'medo', 'tristeza', 'alegria', 'medo', 'surpresa', 'desgosto', 'alegria', 'tristeza', 'alegria', 'desgosto', 'surpresa', 'desgosto', 'medo', 'neutro', 'alegria', 'tristeza', 'surpresa', 'medo', 'desgosto', 'surpresa', 'tristeza', 'neutro', 'neutro', 'raiva', 'alegria', 'medo', 'alegria', 'raiva', 'tristeza', 'medo', 'medo', 'alegria', 'desgosto', 'desgosto', 'alegria', 'tristeza', 'medo', 'desgosto', 'alegria', 'tristeza', 'desgosto', 'medo', 'desgosto', 'tristeza', 'tristeza', 'desgosto', 'desgosto', 'medo', 'tristeza', 'surpresa', 'alegria', 'alegria', 'raiva', 'tristeza', 'neutro', 'alegria', 'raiva', 'medo', 'alegria', 'desgosto', 'surpresa', 'desgosto', 'tristeza', 'medo', 'tristeza', 'tristeza', 'desgosto', 'raiva', 'alegria', 'desgosto', 'desgosto', 'alegria', 'desgosto', 'medo', 'medo', 'alegria', 'tristeza', 'alegria', 'desgosto', 'tristeza', 'tristeza', 'alegria', 'medo', 'desgosto', 'tristeza', 'alegria', 'medo', 'desgosto', 'tristeza', 'tristeza', 'medo', 'desgosto', 'tristeza', 'alegria', 'tristeza', 'raiva', 'alegria', 'medo', 'neutro', 'tristeza', 'alegria', 'tristeza', 'tristeza', 'alegria', 'desgosto', 'medo', 'surpresa', 'alegria', 'raiva', 'alegria', 'raiva', 'neutro', 'tristeza', 'tristeza', 'tristeza', 'medo', 'raiva', 'tristeza', 'desgosto', 'tristeza', 'medo', 'surpresa', 'surpresa', 'surpresa', 'tristeza', 'desgosto', 'surpresa', 'surpresa', 'surpresa', 'alegria', 'surpresa', 'surpresa', 'desgosto', 'tristeza', 'desgosto', 'neutro', 'surpresa', 'medo', 'tristeza', 'alegria', 'alegria', 'tristeza', 'alegria', 'surpresa', 'neutro', 'medo', 'tristeza', 'raiva', 'alegria', 'desgosto', 'tristeza', 'neutro', 'tristeza', 'desgosto', 'tristeza', 'neutro', 'medo', 'surpresa', 'desgosto', 'desgosto', 'alegria', 'tristeza', 'neutro', 'alegria', 'tristeza', 'desgosto', 'medo', 'desgosto', 'surpresa', 'neutro', 'tristeza', 'neutro', 'alegria', 'medo', 'desgosto', 'alegria', 'alegria', 'alegria', 'medo', 'alegria', 'medo', 'medo', 'alegria', 'raiva', 'surpresa', 'desgosto', 'medo', 'desgosto', 'raiva', 'neutro', 'alegria', 'desgosto', 'medo', 'desgosto', 'neutro', 'tristeza', 'desgosto', 'alegria', 'raiva', 'tristeza', 'desgosto', 'alegria', 'tristeza', 'alegria', 'desgosto', 'medo', 'alegria', 'desgosto', 'surpresa', 'tristeza', 'alegria', 'desgosto', 'surpresa', 'desgosto', 'medo', 'alegria', 'neutro', 'tristeza', 'neutro', 'neutro', 'raiva', 'alegria', 'desgosto', 'medo', 'neutro', 'alegria', 'desgosto', 'neutro', 'surpresa', 'medo', 'desgosto', 'desgosto', 'alegria', 'alegria', 'desgosto', 'alegria', 'tristeza', 'alegria', 'medo', 'neutro', 'alegria', 'raiva', 'desgosto', 'alegria', 'alegria', 'alegria', 'medo', 'desgosto', 'alegria', 'desgosto', 'tristeza', 'desgosto', 'raiva', 'alegria', 'desgosto', 'neutro', 'desgosto', 'desgosto', 'raiva', 'alegria', 'tristeza', 'neutro', 'neutro', 'neutro', 'alegria', 'surpresa', 'surpresa', 'tristeza', 'medo', 'tristeza', 'desgosto', 'tristeza', 'surpresa', 'medo', 'tristeza', 'desgosto', 'alegria', 'tristeza', 'alegria', 'tristeza', 'alegria', 'medo', 'alegria', 'surpresa', 'desgosto', 'tristeza', 'tristeza', 'desgosto', 'alegria', 'neutro', 'desgosto', 'alegria', 'neutro', 'desgosto', 'medo', 'tristeza', 'desgosto', 'raiva', 'tristeza', 'desgosto', 'desgosto', 'alegria', 'medo', 'alegria', 'alegria', 'neutro', 'tristeza', 'neutro', 'tristeza', 'neutro', 'alegria', 'alegria', 'alegria', 'tristeza', 'alegria', 'medo', 'desgosto', 'tristeza', 'tristeza', 'alegria', 'medo', 'tristeza', 'surpresa', 'raiva', 'raiva', 'desgosto', 'surpresa', 'desgosto', 'neutro', 'surpresa', 'desgosto', 'alegria', 'tristeza', 'surpresa', 'medo', 'alegria', 'desgosto', 'tristeza', 'tristeza', 'raiva', 'medo', 'tristeza', 'desgosto', 'alegria', 'tristeza', 'tristeza', 'tristeza', 'tristeza', 'medo', 'desgosto', 'alegria', 'tristeza', 'alegria', 'medo', 'raiva', 'surpresa', 'alegria', 'desgosto', 'medo', 'surpresa', 'medo', 'desgosto', 'desgosto', 'neutro', 'tristeza', 'tristeza', 'tristeza', 'tristeza', 'alegria', 'surpresa', 'desgosto', 'raiva', 'medo', 'desgosto', 'raiva', 'medo', 'desgosto', 'medo', 'neutro', 'raiva', 'desgosto', 'desgosto', 'tristeza', 'tristeza', 'tristeza', 'alegria', 'alegria', 'desgosto', 'neutro', 'medo', 'alegria', 'surpresa', 'desgosto', 'medo', 'raiva', 'desgosto', 'surpresa', 'desgosto', 'desgosto', 'desgosto', 'tristeza', 'alegria', 'tristeza', 'tristeza', 'medo', 'tristeza', 'alegria', 'alegria', 'tristeza', 'desgosto', 'surpresa', 'medo', 'surpresa', 'desgosto', 'alegria', 'alegria', 'alegria', 'alegria', 'tristeza', 'tristeza', 'alegria', 'neutro', 'tristeza', 'desgosto', 'raiva', 'alegria', 'alegria', 'alegria', 'tristeza', 'neutro', 'neutro', 'tristeza', 'medo', 'raiva', 'tristeza', 'desgosto', 'desgosto', 'neutro', 'tristeza', 'medo', 'raiva', 'desgosto', 'raiva', 'alegria', 'alegria', 'surpresa', 'desgosto', 'tristeza', 'desgosto', 'alegria', 'tristeza', 'medo', 'medo', 'neutro', 'neutro', 'raiva', 'desgosto', 'neutro', 'neutro', 'desgosto', 'alegria', 'alegria', 'tristeza', 'raiva', 'tristeza', 'medo', 'alegria', 'raiva', 'alegria']\n",
            "['surpresa', 'neutro', 'alegria', 'surpresa', 'medo', 'neutro', 'raiva', 'alegria', 'neutro', 'alegria', 'alegria', 'neutro', 'medo', 'surpresa', 'raiva', 'desgosto', 'alegria', 'desgosto', 'tristeza', 'alegria', 'surpresa', 'neutro', 'alegria', 'alegria', 'tristeza', 'alegria', 'desgosto', 'surpresa', 'alegria', 'surpresa', 'alegria', 'alegria', 'raiva', 'tristeza', 'tristeza', 'tristeza', 'alegria', 'surpresa', 'desgosto', 'tristeza', 'neutro', 'alegria', 'desgosto', 'surpresa', 'desgosto', 'alegria', 'alegria', 'surpresa', 'alegria', 'desgosto', 'desgosto', 'raiva', 'desgosto', 'alegria', 'tristeza', 'alegria', 'tristeza', 'neutro', 'medo', 'surpresa', 'desgosto', 'medo', 'tristeza', 'desgosto', 'surpresa', 'tristeza', 'surpresa', 'tristeza', 'desgosto', 'alegria', 'alegria', 'tristeza', 'desgosto', 'desgosto', 'tristeza', 'desgosto', 'tristeza', 'alegria', 'desgosto', 'desgosto', 'desgosto', 'surpresa', 'medo', 'medo', 'alegria', 'desgosto', 'tristeza', 'raiva', 'desgosto', 'surpresa', 'raiva', 'raiva', 'desgosto', 'medo', 'alegria', 'neutro', 'neutro', 'medo', 'raiva', 'tristeza', 'neutro', 'desgosto', 'tristeza', 'alegria', 'tristeza', 'surpresa', 'desgosto', 'desgosto', 'alegria', 'raiva', 'neutro', 'desgosto', 'surpresa', 'alegria', 'desgosto', 'medo', 'tristeza', 'desgosto', 'desgosto', 'medo', 'alegria', 'raiva', 'neutro', 'desgosto', 'desgosto', 'alegria', 'alegria', 'alegria', 'raiva', 'desgosto', 'desgosto', 'raiva', 'medo', 'tristeza', 'tristeza', 'desgosto', 'surpresa', 'medo', 'raiva', 'alegria', 'alegria', 'alegria', 'alegria', 'tristeza', 'alegria', 'surpresa', 'medo', 'desgosto', 'alegria', 'neutro', 'raiva', 'alegria', 'tristeza', 'raiva', 'tristeza', 'alegria', 'tristeza', 'surpresa', 'medo', 'alegria', 'raiva', 'desgosto', 'tristeza', 'medo', 'medo', 'tristeza', 'alegria', 'surpresa', 'tristeza', 'tristeza', 'desgosto', 'raiva', 'alegria', 'alegria', 'desgosto', 'medo', 'tristeza', 'tristeza', 'raiva', 'tristeza', 'surpresa', 'alegria', 'neutro', 'raiva', 'tristeza', 'surpresa', 'tristeza', 'tristeza', 'raiva', 'surpresa', 'neutro', 'desgosto', 'alegria', 'tristeza', 'neutro', 'neutro', 'tristeza', 'neutro', 'alegria', 'alegria', 'desgosto', 'neutro', 'desgosto', 'tristeza', 'alegria', 'desgosto', 'alegria', 'alegria', 'medo', 'alegria', 'surpresa', 'medo', 'raiva', 'tristeza', 'desgosto', 'neutro', 'raiva', 'tristeza', 'neutro', 'medo', 'raiva', 'desgosto', 'tristeza', 'raiva', 'tristeza', 'neutro', 'alegria', 'alegria', 'neutro', 'tristeza', 'medo', 'desgosto', 'neutro', 'alegria', 'neutro', 'desgosto', 'tristeza', 'tristeza', 'tristeza', 'tristeza', 'raiva', 'alegria', 'alegria', 'alegria', 'raiva', 'raiva', 'surpresa', 'tristeza', 'alegria', 'alegria', 'surpresa', 'neutro', 'tristeza', 'medo', 'tristeza', 'alegria', 'alegria', 'surpresa', 'alegria', 'tristeza', 'surpresa', 'tristeza', 'alegria', 'alegria', 'desgosto', 'alegria', 'medo', 'desgosto', 'medo', 'desgosto', 'alegria', 'medo', 'desgosto', 'medo', 'desgosto', 'desgosto', 'alegria', 'neutro', 'tristeza', 'desgosto', 'alegria', 'desgosto', 'tristeza', 'medo', 'alegria', 'raiva', 'neutro', 'desgosto', 'surpresa', 'desgosto', 'alegria', 'tristeza', 'alegria', 'neutro', 'alegria', 'medo', 'desgosto', 'raiva', 'tristeza', 'alegria', 'alegria', 'tristeza', 'tristeza', 'tristeza', 'desgosto', 'tristeza', 'tristeza', 'alegria', 'raiva', 'medo', 'raiva', 'tristeza', 'raiva', 'alegria', 'alegria', 'desgosto', 'alegria', 'desgosto', 'alegria', 'surpresa', 'tristeza', 'raiva', 'medo', 'medo', 'alegria', 'neutro', 'surpresa', 'neutro', 'medo', 'raiva', 'surpresa', 'tristeza', 'alegria', 'tristeza', 'alegria', 'medo', 'tristeza', 'medo', 'surpresa', 'desgosto', 'alegria', 'neutro', 'alegria', 'alegria', 'medo', 'alegria', 'tristeza', 'alegria', 'medo', 'alegria', 'raiva', 'raiva', 'surpresa', 'tristeza', 'desgosto', 'medo', 'medo', 'desgosto', 'desgosto', 'surpresa', 'alegria', 'desgosto', 'surpresa', 'tristeza', 'neutro', 'tristeza', 'medo', 'alegria', 'tristeza', 'raiva', 'tristeza', 'alegria', 'desgosto', 'alegria', 'neutro', 'desgosto', 'alegria', 'desgosto', 'tristeza', 'desgosto', 'raiva', 'surpresa', 'tristeza', 'surpresa', 'raiva', 'raiva', 'tristeza', 'tristeza', 'desgosto', 'desgosto', 'raiva', 'alegria', 'surpresa', 'desgosto', 'raiva', 'desgosto', 'desgosto', 'medo', 'desgosto', 'surpresa', 'alegria', 'alegria', 'surpresa', 'tristeza', 'medo', 'medo', 'alegria', 'neutro', 'desgosto', 'alegria', 'desgosto', 'neutro', 'surpresa', 'tristeza', 'desgosto', 'raiva', 'surpresa', 'surpresa', 'neutro', 'desgosto', 'tristeza', 'alegria', 'medo', 'surpresa', 'alegria', 'tristeza', 'tristeza', 'medo', 'surpresa', 'tristeza', 'alegria', 'raiva', 'desgosto', 'alegria', 'surpresa', 'alegria', 'desgosto', 'alegria', 'desgosto', 'medo', 'desgosto', 'tristeza', 'medo', 'desgosto', 'neutro', 'tristeza', 'neutro', 'tristeza', 'desgosto', 'medo', 'desgosto', 'desgosto', 'desgosto', 'tristeza', 'tristeza', 'raiva', 'surpresa', 'desgosto', 'desgosto', 'desgosto', 'neutro', 'surpresa', 'alegria', 'raiva', 'medo', 'neutro', 'tristeza', 'surpresa', 'medo', 'alegria', 'neutro', 'desgosto', 'desgosto', 'alegria', 'tristeza', 'medo', 'alegria', 'medo', 'tristeza', 'alegria', 'desgosto', 'neutro', 'desgosto', 'tristeza', 'medo', 'tristeza', 'raiva', 'neutro', 'tristeza', 'alegria', 'alegria', 'alegria', 'medo', 'desgosto', 'tristeza', 'desgosto', 'surpresa', 'raiva', 'alegria', 'surpresa', 'desgosto', 'tristeza', 'tristeza', 'surpresa', 'desgosto', 'alegria', 'alegria', 'surpresa', 'neutro', 'desgosto', 'tristeza', 'neutro', 'tristeza', 'desgosto', 'alegria', 'neutro', 'desgosto', 'neutro', 'raiva', 'neutro', 'desgosto', 'tristeza', 'desgosto', 'alegria', 'surpresa', 'alegria', 'surpresa', 'medo', 'surpresa', 'surpresa', 'medo', 'raiva', 'raiva', 'alegria', 'alegria', 'alegria', 'surpresa', 'medo', 'alegria', 'surpresa', 'alegria', 'alegria', 'surpresa', 'desgosto', 'alegria', 'medo', 'tristeza', 'desgosto', 'tristeza', 'alegria', 'tristeza', 'medo', 'alegria', 'raiva', 'medo', 'alegria', 'alegria', 'raiva', 'neutro', 'medo', 'surpresa', 'desgosto', 'desgosto', 'medo', 'surpresa', 'tristeza', 'surpresa', 'tristeza', 'desgosto', 'neutro', 'desgosto', 'desgosto', 'alegria', 'alegria', 'surpresa', 'tristeza', 'alegria', 'desgosto', 'alegria', 'surpresa', 'tristeza', 'alegria', 'raiva', 'alegria', 'neutro', 'tristeza', 'surpresa', 'alegria', 'alegria', 'alegria', 'surpresa', 'raiva', 'neutro', 'alegria', 'alegria', 'alegria', 'desgosto', 'tristeza', 'tristeza', 'tristeza', 'raiva', 'alegria', 'desgosto', 'surpresa', 'alegria', 'tristeza', 'medo', 'alegria', 'surpresa', 'medo', 'neutro', 'neutro', 'alegria', 'medo', 'desgosto', 'desgosto', 'alegria', 'tristeza', 'tristeza', 'raiva', 'tristeza', 'neutro', 'medo', 'desgosto', 'alegria', 'neutro', 'raiva', 'alegria', 'desgosto', 'desgosto', 'alegria', 'neutro', 'alegria', 'alegria', 'raiva', 'raiva', 'desgosto', 'desgosto', 'tristeza', 'tristeza', 'tristeza', 'tristeza', 'tristeza', 'tristeza', 'alegria', 'neutro', 'alegria', 'medo', 'tristeza', 'tristeza', 'alegria', 'raiva', 'medo', 'alegria', 'alegria', 'desgosto', 'raiva', 'tristeza', 'tristeza', 'tristeza', 'tristeza', 'medo', 'neutro', 'alegria', 'neutro', 'medo', 'alegria', 'surpresa', 'raiva', 'desgosto', 'raiva', 'raiva', 'neutro', 'desgosto', 'tristeza', 'surpresa', 'medo', 'tristeza', 'medo', 'neutro', 'neutro', 'raiva', 'tristeza', 'alegria', 'desgosto', 'surpresa', 'desgosto', 'alegria', 'tristeza', 'raiva', 'alegria', 'medo', 'desgosto', 'desgosto', 'desgosto', 'alegria', 'alegria', 'neutro', 'tristeza', 'tristeza', 'medo', 'alegria', 'desgosto', 'tristeza', 'tristeza', 'alegria', 'raiva', 'surpresa', 'tristeza', 'surpresa', 'medo', 'alegria', 'raiva', 'raiva', 'tristeza', 'medo', 'raiva', 'alegria', 'desgosto', 'tristeza', 'medo', 'tristeza', 'medo', 'tristeza', 'neutro', 'surpresa', 'surpresa', 'medo', 'alegria', 'tristeza', 'alegria', 'alegria', 'desgosto', 'tristeza', 'desgosto', 'desgosto', 'raiva', 'tristeza', 'medo', 'medo', 'tristeza', 'desgosto', 'surpresa', 'medo', 'medo', 'alegria', 'raiva', 'tristeza', 'surpresa', 'medo', 'desgosto', 'medo', 'desgosto', 'surpresa', 'tristeza', 'tristeza', 'surpresa', 'medo', 'desgosto', 'alegria', 'alegria', 'surpresa', 'raiva', 'raiva', 'alegria', 'desgosto', 'desgosto', 'neutro', 'tristeza', 'raiva', 'neutro', 'tristeza', 'tristeza', 'neutro', 'raiva', 'tristeza', 'medo', 'medo', 'neutro', 'desgosto', 'desgosto', 'alegria', 'surpresa', 'raiva', 'raiva', 'alegria', 'tristeza', 'desgosto', 'neutro', 'medo', 'tristeza', 'raiva', 'tristeza', 'neutro', 'neutro', 'medo', 'desgosto', 'desgosto', 'desgosto', 'alegria', 'medo', 'alegria', 'tristeza', 'raiva', 'desgosto', 'neutro', 'alegria', 'tristeza', 'medo', 'raiva', 'desgosto', 'alegria', 'desgosto', 'medo', 'alegria', 'surpresa', 'neutro', 'alegria', 'raiva', 'raiva']\n"
          ],
          "name": "stdout"
        }
      ]
    },
    {
      "cell_type": "code",
      "metadata": {
        "id": "eCZn9vA_Z2Zn",
        "colab_type": "code",
        "colab": {}
      },
      "source": [
        "# Cria o vocabulário a partir da base de treinamento considerando o tamanho definido em vocab_size.\n",
        "# Utiliza como coringa o símbolo Not_known\n",
        "tokenizer = Tokenizer(num_words = vocab_size, oov_token=Not_known)\n",
        "tokenizer.fit_on_texts(train_X)\n",
        "word_index = tokenizer.word_index"
      ],
      "execution_count": 0,
      "outputs": []
    },
    {
      "cell_type": "code",
      "metadata": {
        "id": "IJ5RBL6NZ81j",
        "colab_type": "code",
        "outputId": "0ccdf8c0-75a4-4be3-b7d6-dc32e64f3b94",
        "colab": {
          "base_uri": "https://localhost:8080/",
          "height": 187
        }
      },
      "source": [
        "# Lista os N primeiros vocábulos do dicionários (os N mais frequentes)\n",
        "N=10\n",
        "dict(list(word_index.items())[0:N])\n"
      ],
      "execution_count": 0,
      "outputs": [
        {
          "output_type": "execute_result",
          "data": {
            "text/plain": [
              "{'<NKN>': 1,\n",
              " 'anos': 3,\n",
              " 'após': 7,\n",
              " 'contra': 6,\n",
              " 'diz': 2,\n",
              " 'eua': 10,\n",
              " 'feira': 8,\n",
              " 'governo': 9,\n",
              " 'presidente': 5,\n",
              " 'segundo': 4}"
            ]
          },
          "metadata": {
            "tags": []
          },
          "execution_count": 898
        }
      ]
    },
    {
      "cell_type": "code",
      "metadata": {
        "id": "BDSnnl_MaC5e",
        "colab_type": "code",
        "colab": {}
      },
      "source": [
        "# Converte uma linha de texto em uma sequência de valores\n",
        "train_sequences = tokenizer.texts_to_sequences(train_X)"
      ],
      "execution_count": 0,
      "outputs": []
    },
    {
      "cell_type": "code",
      "metadata": {
        "id": "Zids558vaHzB",
        "colab_type": "code",
        "outputId": "7b9d719c-9d22-499f-f012-a5b17a106d8d",
        "colab": {
          "base_uri": "https://localhost:8080/",
          "height": 34
        }
      },
      "source": [
        "# Mostra uma linha de texto convertida para sequência de valores\n",
        "# Cada valor representa uma palavra do vocabulário\n",
        "print(train_sequences[5])"
      ],
      "execution_count": 0,
      "outputs": [
        {
          "output_type": "stream",
          "text": [
            "[1884, 1885, 1, 749, 832, 1, 833, 1, 265, 31, 87, 53, 131, 3, 24, 32, 936, 1293, 1, 336, 1]\n"
          ],
          "name": "stdout"
        }
      ]
    },
    {
      "cell_type": "code",
      "metadata": {
        "id": "s2jxWfWVaNPR",
        "colab_type": "code",
        "colab": {}
      },
      "source": [
        "# Transforma todas as sequências para um tamanho fixo. Sequências pequenas são completadas e sequências maiores que o limite são truncadas\n",
        "train_padded = pad_sequences(train_sequences, maxlen=max_length, padding=padding_type, truncating=trunc_type)"
      ],
      "execution_count": 0,
      "outputs": []
    },
    {
      "cell_type": "code",
      "metadata": {
        "id": "eXpamqjxaTfL",
        "colab_type": "code",
        "outputId": "ec1bacd4-d980-438d-845d-f9e5fb49c329",
        "colab": {
          "base_uri": "https://localhost:8080/",
          "height": 119
        }
      },
      "source": [
        "print(len(train_sequences[0]))\n",
        "print(len(train_padded[0]))\n",
        "\n",
        "print(len(train_sequences[1]))\n",
        "print(len(train_padded[1]))\n",
        "\n",
        "print(len(train_sequences[10]))\n",
        "print(len(train_padded[10]))"
      ],
      "execution_count": 0,
      "outputs": [
        {
          "output_type": "stream",
          "text": [
            "23\n",
            "35\n",
            "21\n",
            "35\n",
            "16\n",
            "35\n"
          ],
          "name": "stdout"
        }
      ]
    },
    {
      "cell_type": "code",
      "metadata": {
        "id": "o4uSyQj2aZrY",
        "colab_type": "code",
        "outputId": "67fe20db-73d7-4364-c297-7f6dda8eb5a8",
        "colab": {
          "base_uri": "https://localhost:8080/",
          "height": 68
        }
      },
      "source": [
        "# Imprime uma sequência\n",
        "print(train_padded[6])"
      ],
      "execution_count": 0,
      "outputs": [
        {
          "output_type": "stream",
          "text": [
            "[1886 1294 3294 3295  937 3296   60  251 2507   53 3297  559 3298  213\n",
            "  150   59    8   88    0    0    0    0    0    0    0    0    0    0\n",
            "    0    0    0    0    0    0    0]\n"
          ],
          "name": "stdout"
        }
      ]
    },
    {
      "cell_type": "code",
      "metadata": {
        "id": "Job1hIYQafUq",
        "colab_type": "code",
        "outputId": "674986d1-bd7c-4d4f-b319-8f75b1ea9371",
        "colab": {
          "base_uri": "https://localhost:8080/",
          "height": 51
        }
      },
      "source": [
        "# Tokeniza a base de validação.\n",
        "\n",
        "validation_sequences = tokenizer.texts_to_sequences(validation_X)\n",
        "validation_padded = pad_sequences(validation_sequences, maxlen=max_length, padding=padding_type, truncating=trunc_type)\n",
        "\n",
        "print(len(validation_sequences))\n",
        "print(validation_padded.shape)"
      ],
      "execution_count": 0,
      "outputs": [
        {
          "output_type": "stream",
          "text": [
            "820\n",
            "(820, 35)\n"
          ],
          "name": "stdout"
        }
      ]
    },
    {
      "cell_type": "code",
      "metadata": {
        "id": "PJmSci_Ram7C",
        "colab_type": "code",
        "outputId": "12985b5f-25c2-4745-d825-69b6598a3eb0",
        "colab": {
          "base_uri": "https://localhost:8080/",
          "height": 34
        }
      },
      "source": [
        "# Mostra o conjunto de rótulos\n",
        "print(set(y))"
      ],
      "execution_count": 0,
      "outputs": [
        {
          "output_type": "stream",
          "text": [
            "{'desgosto', 'medo', 'surpresa', 'raiva', 'tristeza', 'alegria', 'neutro'}\n"
          ],
          "name": "stdout"
        }
      ]
    },
    {
      "cell_type": "code",
      "metadata": {
        "id": "El9KrDsdasAU",
        "colab_type": "code",
        "colab": {}
      },
      "source": [
        "# Tokeniza os rótulos\n",
        "label_tokenizer = Tokenizer()\n",
        "label_tokenizer.fit_on_texts(y)\n",
        "\n",
        "# Observe que subtraímos 1 dos códigos para estes comecem em 0\n",
        "training_label_seq = np.array(label_tokenizer.texts_to_sequences(train_y))-1\n",
        "validation_label_seq = np.array(label_tokenizer.texts_to_sequences(validation_y))-1"
      ],
      "execution_count": 0,
      "outputs": []
    },
    {
      "cell_type": "code",
      "metadata": {
        "id": "KtA4DaEpawPj",
        "colab_type": "code",
        "outputId": "ba4b4602-9604-41c5-bef8-f2402ffa6d05",
        "colab": {
          "base_uri": "https://localhost:8080/",
          "height": 153
        }
      },
      "source": [
        "print(training_label_seq[0])\n",
        "print(training_label_seq[1])\n",
        "print(training_label_seq[400])\n",
        "print(training_label_seq.shape)\n",
        "\n",
        "print(validation_label_seq[0])\n",
        "print(validation_label_seq[1])\n",
        "print(validation_label_seq[50])\n",
        "print(validation_label_seq.shape)"
      ],
      "execution_count": 0,
      "outputs": [
        {
          "output_type": "stream",
          "text": [
            "[0]\n",
            "[3]\n",
            "[1]\n",
            "(1912, 1)\n",
            "[5]\n",
            "[6]\n",
            "[2]\n",
            "(820, 1)\n"
          ],
          "name": "stdout"
        }
      ]
    },
    {
      "cell_type": "code",
      "metadata": {
        "id": "KN6zfnEVa2FN",
        "colab_type": "code",
        "outputId": "e50e6790-13be-4f0e-9c7a-afd614cfa51e",
        "colab": {
          "base_uri": "https://localhost:8080/",
          "height": 88
        }
      },
      "source": [
        "# Confere como ficaram as nossas frases depois de transformdas\n",
        "# Apenas para conferência.\n",
        "\n",
        "reverse_word_index = dict([(value, key) for (key, value) in word_index.items()])\n",
        "\n",
        "def decode_article(text):\n",
        "    return ' '.join([reverse_word_index.get(i, '?') for i in text])\n",
        "print(decode_article(train_padded[10]))\n",
        "print('---')\n",
        "print(train_X[10])"
      ],
      "execution_count": 0,
      "outputs": [
        {
          "output_type": "stream",
          "text": [
            "polícia obriga moussavi deixar cerimônia luto irã manifestantes presos segundo testemunhas homenagem vítimas confrontos feita cemitério ? ? ? ? ? ? ? ? ? ? ? ? ? ? ? ? ? ? ?\n",
            "---\n",
            " Polícia obriga Moussavi deixar cerimônia luto Irã Manifestantes presos, segundo testemunhas. Homenagem vítimas confrontos feita cemitério.\n"
          ],
          "name": "stdout"
        }
      ]
    },
    {
      "cell_type": "code",
      "metadata": {
        "id": "7G3sPURXa-V7",
        "colab_type": "code",
        "outputId": "141dba50-6e72-449f-cd24-c71b84097bd7",
        "colab": {
          "base_uri": "https://localhost:8080/",
          "height": 629
        }
      },
      "source": [
        "\n",
        "# Criando a rede LSTM (Long Short Term Memory)\n",
        "\n",
        "hidden_size=64\n",
        "model = tf.keras.Sequential()\n",
        "model.add(tf.keras.layers.Embedding(vocab_size, embedding_dim))\n",
        "#model.add(tf.keras.layers.LSTM(embedding_dim, dropout = 0.25 , recurrent_dropout=0.25))\n",
        "model.add(tf.keras.layers.Bidirectional(tf.keras.layers.LSTM(embedding_dim)))\n",
        "model.add(tf.keras.layers.Dense(64, activation='relu'))\n",
        "model.add(tf.keras.layers.Dense(7, activation='softmax'))\n",
        "\n",
        "model.summary()\n",
        "\n",
        "# Compilando a LSTM\n",
        "model.compile(loss='sparse_categorical_crossentropy', optimizer='adam', metrics=['accuracy'])\n",
        "\n",
        "# Treinamento da LSTM\n",
        "num_epochs = 10\n",
        "history = model.fit(train_padded, training_label_seq, epochs=num_epochs, validation_data=(validation_padded, validation_label_seq), verbose=2)"
      ],
      "execution_count": 0,
      "outputs": [
        {
          "output_type": "stream",
          "text": [
            "Model: \"sequential_88\"\n",
            "_________________________________________________________________\n",
            "Layer (type)                 Output Shape              Param #   \n",
            "=================================================================\n",
            "embedding_87 (Embedding)     (None, None, 64)          320000    \n",
            "_________________________________________________________________\n",
            "bidirectional_62 (Bidirectio (None, 128)               66048     \n",
            "_________________________________________________________________\n",
            "dense_155 (Dense)            (None, 64)                8256      \n",
            "_________________________________________________________________\n",
            "dense_156 (Dense)            (None, 7)                 455       \n",
            "=================================================================\n",
            "Total params: 394,759\n",
            "Trainable params: 394,759\n",
            "Non-trainable params: 0\n",
            "_________________________________________________________________\n",
            "Epoch 1/10\n",
            "60/60 - 1s - loss: 1.8955 - accuracy: 0.1977 - val_loss: 1.8428 - val_accuracy: 0.3146\n",
            "Epoch 2/10\n",
            "60/60 - 1s - loss: 1.6434 - accuracy: 0.3703 - val_loss: 1.6045 - val_accuracy: 0.3854\n",
            "Epoch 3/10\n",
            "60/60 - 1s - loss: 1.1472 - accuracy: 0.6030 - val_loss: 1.5383 - val_accuracy: 0.4561\n",
            "Epoch 4/10\n",
            "60/60 - 1s - loss: 0.7447 - accuracy: 0.7552 - val_loss: 1.5755 - val_accuracy: 0.5268\n",
            "Epoch 5/10\n",
            "60/60 - 1s - loss: 0.5500 - accuracy: 0.8133 - val_loss: 1.4905 - val_accuracy: 0.5439\n",
            "Epoch 6/10\n",
            "60/60 - 1s - loss: 0.4167 - accuracy: 0.8499 - val_loss: 1.6293 - val_accuracy: 0.5744\n",
            "Epoch 7/10\n",
            "60/60 - 1s - loss: 0.3648 - accuracy: 0.8677 - val_loss: 1.6335 - val_accuracy: 0.5561\n",
            "Epoch 8/10\n",
            "60/60 - 1s - loss: 0.3324 - accuracy: 0.8619 - val_loss: 1.6605 - val_accuracy: 0.5512\n",
            "Epoch 9/10\n",
            "60/60 - 1s - loss: 0.2998 - accuracy: 0.8719 - val_loss: 1.9679 - val_accuracy: 0.5561\n",
            "Epoch 10/10\n",
            "60/60 - 1s - loss: 0.2766 - accuracy: 0.8755 - val_loss: 2.0201 - val_accuracy: 0.5598\n"
          ],
          "name": "stdout"
        }
      ]
    },
    {
      "cell_type": "code",
      "metadata": {
        "id": "tPxVfIYSzD2j",
        "colab_type": "code",
        "outputId": "f15c6b4f-8645-4d5f-8aeb-d695e59f7a0e",
        "colab": {
          "base_uri": "https://localhost:8080/",
          "height": 629
        }
      },
      "source": [
        "# Criando uma RNN (Recurrent Neural Network)\n",
        "\n",
        "model = tf.keras.Sequential()\n",
        "model.add(tf.keras.layers.Embedding(input_dim=vocab_size, output_dim=64, input_length=max_length))\n",
        "\n",
        "# The output of SimpleRNN will be a 2D tensor of shape (batch_size, 128)\n",
        "model.add(tf.keras.layers.SimpleRNN(units=64))\n",
        "model.add(tf.keras.layers.Dense(64, activation='relu'))\n",
        "model.add(tf.keras.layers.Dense(7, activation='softmax'))\n",
        "model.summary() \n",
        "\n",
        "# Compilando a RNN\n",
        "#model.compile(optimizer='rmsprop', loss='binary_crossentropy', metrics=['acc'])\n",
        "model.compile(loss='sparse_categorical_crossentropy', optimizer='adam', metrics=['accuracy'])\n",
        "\n",
        "# Treinamento da RNN\n",
        "history = model.fit(train_padded, training_label_seq, batch_size=32, epochs=10, validation_data=(validation_padded, validation_label_seq), verbose=2)\n",
        "\n"
      ],
      "execution_count": 0,
      "outputs": [
        {
          "output_type": "stream",
          "text": [
            "Model: \"sequential_102\"\n",
            "_________________________________________________________________\n",
            "Layer (type)                 Output Shape              Param #   \n",
            "=================================================================\n",
            "embedding_101 (Embedding)    (None, 35, 64)            320000    \n",
            "_________________________________________________________________\n",
            "simple_rnn_12 (SimpleRNN)    (None, 64)                8256      \n",
            "_________________________________________________________________\n",
            "dense_173 (Dense)            (None, 64)                4160      \n",
            "_________________________________________________________________\n",
            "dense_174 (Dense)            (None, 7)                 455       \n",
            "=================================================================\n",
            "Total params: 332,871\n",
            "Trainable params: 332,871\n",
            "Non-trainable params: 0\n",
            "_________________________________________________________________\n",
            "Epoch 1/10\n",
            "60/60 - 2s - loss: 1.8497 - accuracy: 0.2631 - val_loss: 1.7715 - val_accuracy: 0.3159\n",
            "Epoch 2/10\n",
            "60/60 - 2s - loss: 1.2190 - accuracy: 0.6056 - val_loss: 1.6458 - val_accuracy: 0.4427\n",
            "Epoch 3/10\n",
            "60/60 - 2s - loss: 0.6083 - accuracy: 0.8169 - val_loss: 1.6478 - val_accuracy: 0.5024\n",
            "Epoch 4/10\n",
            "60/60 - 2s - loss: 0.3885 - accuracy: 0.8604 - val_loss: 1.8635 - val_accuracy: 0.5000\n",
            "Epoch 5/10\n",
            "60/60 - 2s - loss: 0.3212 - accuracy: 0.8703 - val_loss: 1.9526 - val_accuracy: 0.5183\n",
            "Epoch 6/10\n",
            "60/60 - 2s - loss: 0.2897 - accuracy: 0.8740 - val_loss: 2.0632 - val_accuracy: 0.4829\n",
            "Epoch 7/10\n",
            "60/60 - 2s - loss: 0.2743 - accuracy: 0.8760 - val_loss: 2.1610 - val_accuracy: 0.5049\n",
            "Epoch 8/10\n",
            "60/60 - 2s - loss: 0.2494 - accuracy: 0.8797 - val_loss: 2.0500 - val_accuracy: 0.5098\n",
            "Epoch 9/10\n",
            "60/60 - 2s - loss: 0.2374 - accuracy: 0.8855 - val_loss: 2.1325 - val_accuracy: 0.4915\n",
            "Epoch 10/10\n",
            "60/60 - 2s - loss: 0.2305 - accuracy: 0.8813 - val_loss: 2.2484 - val_accuracy: 0.4976\n"
          ],
          "name": "stdout"
        }
      ]
    },
    {
      "cell_type": "code",
      "metadata": {
        "id": "lA5tWjiAbOmn",
        "colab_type": "code",
        "outputId": "ccfff88d-854c-495a-e781-3e4c13e7878d",
        "colab": {
          "base_uri": "https://localhost:8080/",
          "height": 542
        }
      },
      "source": [
        "# Imprime gráfico histórico do treinamento\n",
        "import matplotlib.pyplot as plt\n",
        "def plot_graphs(history, string):\n",
        "  plt.plot(history.history[string])\n",
        "  plt.plot(history.history['val_'+string])\n",
        "  plt.xlabel(\"Epochs\")\n",
        "  plt.ylabel(string)\n",
        "  plt.legend([string, 'val_'+string])\n",
        "  plt.show()\n",
        "  \n",
        "plot_graphs(history, \"accuracy\")\n",
        "plot_graphs(history, \"loss\")\n",
        "  "
      ],
      "execution_count": 0,
      "outputs": [
        {
          "output_type": "display_data",
          "data": {
            "image/png": "[encoded data removed]",
            "text/plain": [
              "<Figure size 432x288 with 1 Axes>"
            ]
          },
          "metadata": {
            "tags": []
          }
        },
        {
          "output_type": "display_data",
          "data": {
            "image/png": "[encoded data removed]",
            "text/plain": [
              "<Figure size 432x288 with 1 Axes>"
            ]
          },
          "metadata": {
            "tags": []
          }
        }
      ]
    },
    {
      "cell_type": "code",
      "metadata": {
        "id": "ODeyBE44bVnT",
        "colab_type": "code",
        "outputId": "db83ddc9-c296-4ee4-dca9-33921b1628e1",
        "colab": {
          "base_uri": "https://localhost:8080/",
          "height": 102
        }
      },
      "source": [
        "# Testando uma frase\n",
        "\n",
        "txt = [\"Clientes de shopping se assustam com suposta bomba deixada por trio durante assalto. Os bandidos deixaram a suposta bomba em cima do balcão da loja, deixando os funcionários e clientes assustados.\"]\n",
        "seq = tokenizer.texts_to_sequences(txt)\n",
        "padded = pad_sequences(seq, maxlen=max_length, padding=padding_type, truncating=trunc_type)\n",
        "pred = model.predict(padded)\n",
        "labels = ['desgosto', 'medo', 'surpresa', 'raiva', 'tristeza', 'alegria', 'neutro']\n",
        "print(pred, labels[np.argmax(pred)])\n",
        "\n",
        "print(\"Resultado na validacao:\")\n",
        "score=model.evaluate(validation_padded, validation_label_seq, verbose=0)\n",
        "print('Test loss:', score[0])\n",
        "print('Test accuracy:', score[1])\n",
        "\n"
      ],
      "execution_count": 0,
      "outputs": [
        {
          "output_type": "stream",
          "text": [
            "[[0.7273306  0.01675132 0.01504662 0.01236244 0.02641146 0.00720335\n",
            "  0.1948942 ]] desgosto\n",
            "Resultado na validacao:\n",
            "Test loss: 2.176917791366577\n",
            "Test accuracy: 0.5060975551605225\n"
          ],
          "name": "stdout"
        }
      ]
    },
    {
      "cell_type": "code",
      "metadata": {
        "id": "-Lyitqlc2eIr",
        "colab_type": "code",
        "colab": {}
      },
      "source": [
        "# Plotar a matrix de confusão \n",
        "def plot_confusion_matrix(cm, classes,\n",
        "                          normalize=False,\n",
        "                          title=None,\n",
        "                          cmap=plt.cm.Blues):\n",
        "  plt.imshow(cm, interpolation = 'nearest',cmap=cmap)\n",
        "  plt.title(title)\n",
        "  plt.colorbar()\n",
        "  tick_marks = np.arange(len(classes))\n",
        "  plt.xticks(tick_marks, classes, rotation = 45)\n",
        "  plt.yticks(tick_marks, classes)\n",
        "  \n",
        "  if normalize:\n",
        "    cm = cm.astype('float')/cm.sum(axis=1)[:,np.newaxis]\n",
        "    print(\"Normalized confusion matrix\")\n",
        "  else:\n",
        "    print(\"Confusion matrix, without normalization\")\n",
        "  \n",
        "  thresh = cm.max()/2\n",
        "  for i, j in itertools.product(range(cm.shape[0]),range(cm.shape[1])):\n",
        "    plt.text(j, i, cm[i,j], horizontalalignment=\"center\", color=\"white\" if cm[i,j]>thresh else \"black\")\n",
        "   \n",
        "  plt.tight_layout()\n",
        "  plt.ylabel('True label')\n",
        "  plt.xlabel('Predicted label')"
      ],
      "execution_count": 0,
      "outputs": []
    },
    {
      "cell_type": "code",
      "metadata": {
        "id": "JxYCvgOi16r2",
        "colab_type": "code",
        "outputId": "d8cd1332-77a7-454d-e216-9e8de16bf6b6",
        "colab": {
          "base_uri": "https://localhost:8080/",
          "height": 328
        }
      },
      "source": [
        "# Preparar Matriz de Confusão\n",
        "import itertools\n",
        "from sklearn.metrics import confusion_matrix\n",
        "y_predict=model.predict_classes(validation_padded)\n",
        "val=validation_label_seq.reshape(len(validation_label_seq))\n",
        "cm=confusion_matrix(val, y_predict)\n",
        "cm_plot_labels=['desgosto', 'medo', 'surpresa', 'raiva', 'tristeza', 'alegria', 'neutro']\n",
        "plot_confusion_matrix(cm, cm_plot_labels, title='Confusion matrix')\n"
      ],
      "execution_count": 0,
      "outputs": [
        {
          "output_type": "stream",
          "text": [
            "Confusion matrix, without normalization\n"
          ],
          "name": "stdout"
        },
        {
          "output_type": "display_data",
          "data": {
            "image/png": "[encoded data removed]",
            "text/plain": [
              "<Figure size 432x288 with 2 Axes>"
            ]
          },
          "metadata": {
            "tags": []
          }
        }
      ]
    }
  ]
}